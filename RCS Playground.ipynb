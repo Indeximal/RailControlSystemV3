{
 "cells": [
  {
   "cell_type": "code",
   "execution_count": 1,
   "metadata": {},
   "outputs": [],
   "source": [
    "from rcsworld.rcs.network import RailNetworkBuilder\n",
    "\n",
    "loop = (RailNetworkBuilder()\n",
    "\t\t.start(0, -1)\n",
    "\t\t.mark(\"start\")\n",
    "\t\t.track_to(1, 0)\n",
    "\t\t.track_to(0, 1)\n",
    "\t\t.track_to(-1, 0)\n",
    "\t\t.connect_to(\"start\")\n",
    "\t\t.build())"
   ]
  },
  {
   "cell_type": "code",
   "execution_count": 2,
   "metadata": {},
   "outputs": [
    {
     "data": {
      "text/plain": [
       "<rcsworld.rcs.network.RailNetwork at 0x10f6355f8>"
      ]
     },
     "execution_count": 2,
     "metadata": {},
     "output_type": "execute_result"
    }
   ],
   "source": [
    "loop"
   ]
  },
  {
   "cell_type": "code",
   "execution_count": 4,
   "metadata": {},
   "outputs": [
    {
     "name": "stdout",
     "output_type": "stream",
     "text": [
      "<rcsworld.rcs.block.RailBlock object at 0x11b3eecc0> [<rcsworld.rcs.block.RailBlock object at 0x10f6171d0>] [<rcsworld.rcs.block.RailBlock object at 0x11b3ee278>]\n",
      "<rcsworld.rcs.block.RailBlock object at 0x11b3ee278> [<rcsworld.rcs.block.RailBlock object at 0x11b3eecc0>] [<rcsworld.rcs.block.RailBlock object at 0x11b3eed68>]\n",
      "<rcsworld.rcs.block.RailBlock object at 0x11b3eed68> [<rcsworld.rcs.block.RailBlock object at 0x11b3ee278>] [<rcsworld.rcs.block.RailBlock object at 0x10f6171d0>]\n",
      "<rcsworld.rcs.block.RailBlock object at 0x10f6171d0> [<rcsworld.rcs.block.RailBlock object at 0x11b3eed68>] [<rcsworld.rcs.block.RailBlock object at 0x11b3eecc0>]\n"
     ]
    }
   ],
   "source": [
    "for block in loop.blocks:\n",
    "    print(block, block.a_connections, block.b_connections)"
   ]
  },
  {
   "cell_type": "code",
   "execution_count": null,
   "metadata": {},
   "outputs": [],
   "source": []
  }
 ],
 "metadata": {
  "kernelspec": {
   "display_name": "Python 3",
   "language": "python",
   "name": "python3"
  },
  "language_info": {
   "codemirror_mode": {
    "name": "ipython",
    "version": 3
   },
   "file_extension": ".py",
   "mimetype": "text/x-python",
   "name": "python",
   "nbconvert_exporter": "python",
   "pygments_lexer": "ipython3",
   "version": "3.6.6+"
  }
 },
 "nbformat": 4,
 "nbformat_minor": 2
}
